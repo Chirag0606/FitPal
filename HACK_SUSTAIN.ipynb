{
 "cells": [
  {
   "cell_type": "code",
   "execution_count": 3,
   "id": "9bf5d46e",
   "metadata": {},
   "outputs": [
    {
     "ename": "ModuleNotFoundError",
     "evalue": "No module named 'tensorflow'",
     "output_type": "error",
     "traceback": [
      "\u001b[1;31m---------------------------------------------------------------------------\u001b[0m",
      "\u001b[1;31mModuleNotFoundError\u001b[0m                       Traceback (most recent call last)",
      "Cell \u001b[1;32mIn[3], line 6\u001b[0m\n\u001b[0;32m      4\u001b[0m \u001b[38;5;28;01mimport\u001b[39;00m \u001b[38;5;21;01mmatplotlib\u001b[39;00m\u001b[38;5;21;01m.\u001b[39;00m\u001b[38;5;21;01mpyplot\u001b[39;00m \u001b[38;5;28;01mas\u001b[39;00m \u001b[38;5;21;01mplt\u001b[39;00m\n\u001b[0;32m      5\u001b[0m \u001b[38;5;28;01mimport\u001b[39;00m \u001b[38;5;21;01mseaborn\u001b[39;00m \u001b[38;5;28;01mas\u001b[39;00m \u001b[38;5;21;01msns\u001b[39;00m\n\u001b[1;32m----> 6\u001b[0m \u001b[38;5;28;01mimport\u001b[39;00m \u001b[38;5;21;01mtensorflow\u001b[39;00m \u001b[38;5;28;01mas\u001b[39;00m \u001b[38;5;21;01mtf\u001b[39;00m\n\u001b[0;32m      7\u001b[0m \u001b[38;5;28;01mfrom\u001b[39;00m \u001b[38;5;21;01mtensorflow\u001b[39;00m\u001b[38;5;21;01m.\u001b[39;00m\u001b[38;5;21;01mkeras\u001b[39;00m\u001b[38;5;21;01m.\u001b[39;00m\u001b[38;5;21;01mmodels\u001b[39;00m \u001b[38;5;28;01mimport\u001b[39;00m Sequential\n\u001b[0;32m      8\u001b[0m \u001b[38;5;28;01mfrom\u001b[39;00m \u001b[38;5;21;01mtensorflow\u001b[39;00m\u001b[38;5;21;01m.\u001b[39;00m\u001b[38;5;21;01mkeras\u001b[39;00m\u001b[38;5;21;01m.\u001b[39;00m\u001b[38;5;21;01mlayers\u001b[39;00m \u001b[38;5;28;01mimport\u001b[39;00m Dense, Activation,Dropout\n",
      "\u001b[1;31mModuleNotFoundError\u001b[0m: No module named 'tensorflow'"
     ]
    }
   ],
   "source": [
    "import pandas as pd\n",
    "import numpy as np\n",
    "import os\n",
    "import matplotlib.pyplot as plt\n",
    "import seaborn as sns\n",
    "import tensorflow as tf\n",
    "from tensorflow.keras.models import Sequential\n",
    "from tensorflow.keras.layers import Dense, Activation,Dropout\n",
    "from tensorflow.keras.layers import Dropout\n",
    "from tensorflow.keras.callbacks import EarlyStopping\n",
    "from keras import callbacks\n",
    "from sklearn.preprocessing import MinMaxScaler\n",
    "from sklearn.model_selection import train_test_split\n",
    "from sklearn.metrics import classification_report,confusion_matrix\n",
    "from sklearn.model_selection import StratifiedShuffleSplit"
   ]
  },
  {
   "cell_type": "code",
   "execution_count": null,
   "id": "83c7f6fe",
   "metadata": {},
   "outputs": [],
   "source": [
    "fat_data=pd.read_csv(\"bodyfat.csv\")"
   ]
  },
  {
   "cell_type": "code",
   "execution_count": null,
   "id": "a844506f",
   "metadata": {},
   "outputs": [],
   "source": []
  },
  {
   "cell_type": "code",
   "execution_count": null,
   "id": "7df7225d",
   "metadata": {},
   "outputs": [],
   "source": []
  },
  {
   "cell_type": "code",
   "execution_count": null,
   "id": "01c64726",
   "metadata": {},
   "outputs": [],
   "source": [
    "fat_data.isnull().sum()"
   ]
  },
  {
   "cell_type": "code",
   "execution_count": null,
   "id": "ef2690d4",
   "metadata": {},
   "outputs": [],
   "source": [
    "fat_data.info()"
   ]
  },
  {
   "cell_type": "code",
   "execution_count": null,
   "id": "25e39550",
   "metadata": {},
   "outputs": [],
   "source": [
    "fat_data.describe()"
   ]
  },
  {
   "cell_type": "code",
   "execution_count": null,
   "id": "346e1c11",
   "metadata": {},
   "outputs": [],
   "source": [
    "fat_data.shape"
   ]
  },
  {
   "cell_type": "code",
   "execution_count": null,
   "id": "7ea75fc7",
   "metadata": {},
   "outputs": [],
   "source": [
    "fat_data.columns"
   ]
  },
  {
   "cell_type": "code",
   "execution_count": null,
   "id": "4388cb9e",
   "metadata": {
    "scrolled": true
   },
   "outputs": [],
   "source": [
    "fat_data.sample(50).duplicated()"
   ]
  },
  {
   "cell_type": "code",
   "execution_count": null,
   "id": "f4563ee8",
   "metadata": {},
   "outputs": [],
   "source": [
    "sns.distplot(fat_data)"
   ]
  },
  {
   "cell_type": "code",
   "execution_count": null,
   "id": "7a58573f",
   "metadata": {
    "scrolled": true
   },
   "outputs": [],
   "source": [
    "fat_data.corr()[\"BodyFat\"].sort_values()"
   ]
  },
  {
   "cell_type": "code",
   "execution_count": null,
   "id": "0ed46dfd",
   "metadata": {},
   "outputs": [],
   "source": [
    "#fat_data=fat_data.drop('Hip',axis=1)\n",
    "fat_data=fat_data.drop('Age',axis=1)\n",
    "fat_data=fat_data.drop('Ankle',axis=1)\n",
    "fat_data=fat_data.drop('Density',axis=1)\n",
    "fat_data=fat_data.drop('Neck',axis=1)\n",
    "# fat_data=fat_data.drop('Hip',axis=1)\n",
    "fat_data=fat_data.drop('Knee',axis=1)\n",
    "fat_data=fat_data.drop('Biceps',axis=1)\n",
    "fat_data=fat_data.drop('Forearm',axis=1)\n",
    "fat_data=fat_data.drop('Wrist',axis=1)"
   ]
  },
  {
   "cell_type": "code",
   "execution_count": null,
   "id": "8f2dcf36",
   "metadata": {},
   "outputs": [],
   "source": [
    "fat_data.corr()[\"BodyFat\"].sort_values()"
   ]
  },
  {
   "cell_type": "code",
   "execution_count": null,
   "id": "6b12ccfa",
   "metadata": {},
   "outputs": [],
   "source": [
    "plt.figure(figsize=(15,15))\n",
    "corr_data = fat_data.corr()\n",
    "sns.heatmap(corr_data,annot=True)"
   ]
  },
  {
   "cell_type": "code",
   "execution_count": null,
   "id": "9cd03e18",
   "metadata": {},
   "outputs": [],
   "source": [
    "fat_data.corr()[\"BodyFat\"].sort_values().plot(kind=\"bar\")"
   ]
  },
  {
   "cell_type": "code",
   "execution_count": null,
   "id": "f3574045",
   "metadata": {},
   "outputs": [],
   "source": [
    "X = fat_data.drop('BodyFat',axis=1).values\n",
    "y = fat_data['BodyFat'].values"
   ]
  },
  {
   "cell_type": "code",
   "execution_count": null,
   "id": "6ef1da78",
   "metadata": {},
   "outputs": [],
   "source": [
    "X_train, X_test, y_train, y_test = train_test_split(X,y,test_size=0.32,random_state=42)\n"
   ]
  },
  {
   "cell_type": "code",
   "execution_count": null,
   "id": "45622dbb",
   "metadata": {},
   "outputs": [],
   "source": [
    "y_train"
   ]
  },
  {
   "cell_type": "code",
   "execution_count": null,
   "id": "6f871800",
   "metadata": {},
   "outputs": [],
   "source": [
    "y_test"
   ]
  },
  {
   "cell_type": "code",
   "execution_count": null,
   "id": "55355405",
   "metadata": {},
   "outputs": [],
   "source": [
    "scaler = MinMaxScaler()"
   ]
  },
  {
   "cell_type": "code",
   "execution_count": null,
   "id": "01c7d188",
   "metadata": {},
   "outputs": [],
   "source": [
    "scaler.fit(X_train)"
   ]
  },
  {
   "cell_type": "code",
   "execution_count": null,
   "id": "c3e36380",
   "metadata": {},
   "outputs": [],
   "source": [
    "X_train = scaler.transform(X_train)\n",
    "X_test = scaler.transform(X_test)"
   ]
  },
  {
   "cell_type": "code",
   "execution_count": null,
   "id": "21b81492",
   "metadata": {},
   "outputs": [],
   "source": [
    "from tensorflow.keras.models import Sequential\n",
    "from tensorflow.keras.layers import Dense, Activation\n",
    "from tensorflow.keras.optimizers import Adam"
   ]
  },
  {
   "cell_type": "code",
   "execution_count": null,
   "id": "9cd45928",
   "metadata": {},
   "outputs": [],
   "source": [
    "model = Sequential()\n",
    "\n",
    "model.add(Dense(units= 128 ,kernel_initializer = 'uniform',activation='relu', input_dim = 6))\n",
    "\n",
    "model.add(Dense(units= 64 ,kernel_initializer = 'uniform',activation='relu'))\n",
    "\n",
    "model.add(Dense(units= 64 ,kernel_initializer = 'uniform',activation='relu'))\n",
    "\n",
    "model.add(Dense(units= 128,kernel_initializer = 'uniform',activation='relu'))\n",
    "\n",
    "\n",
    "\n",
    "model.add(Dense(units= 8 ,kernel_initializer = 'uniform',activation='relu'))\n",
    "\n",
    "\n",
    "\n",
    "\n",
    "\n",
    "model.add(Dense(1))\n",
    "\n",
    "\n",
    "model.compile(optimizer='adam',loss='mse')"
   ]
  },
  {
   "cell_type": "code",
   "execution_count": null,
   "id": "40caa1f9",
   "metadata": {
    "scrolled": true
   },
   "outputs": [],
   "source": [
    "early_stop = EarlyStopping(monitor='val_loss', mode='min', verbose=1, patience=25,restore_best_weights=True)\n",
    "history=model.fit(x=X_train, \n",
    "          y=y_train, \n",
    "          epochs=500,\n",
    "          validation_data=(X_test, y_test), verbose=1,\n",
    "          callbacks=[early_stop],\n",
    "            batch_size = 50\n",
    "          )"
   ]
  },
  {
   "cell_type": "code",
   "execution_count": null,
   "id": "46d6f518",
   "metadata": {},
   "outputs": [],
   "source": [
    "losses = pd.DataFrame(model.history.history)\n",
    "losses.plot()"
   ]
  },
  {
   "cell_type": "code",
   "execution_count": null,
   "id": "f9930c46",
   "metadata": {},
   "outputs": [],
   "source": [
    "from sklearn.metrics import mean_squared_error,mean_absolute_error,explained_variance_score\n"
   ]
  },
  {
   "cell_type": "code",
   "execution_count": null,
   "id": "c2bc18ad",
   "metadata": {},
   "outputs": [],
   "source": [
    "predictions = model.predict(X_test)"
   ]
  },
  {
   "cell_type": "code",
   "execution_count": null,
   "id": "4e176153",
   "metadata": {},
   "outputs": [],
   "source": [
    "mean_absolute_error(y_test,predictions)"
   ]
  },
  {
   "cell_type": "code",
   "execution_count": null,
   "id": "d6124df0",
   "metadata": {},
   "outputs": [],
   "source": [
    "fat_data['BodyFat'].mean()"
   ]
  },
  {
   "cell_type": "code",
   "execution_count": null,
   "id": "94e6175d",
   "metadata": {},
   "outputs": [],
   "source": []
  },
  {
   "cell_type": "code",
   "execution_count": null,
   "id": "53b349f2",
   "metadata": {},
   "outputs": [],
   "source": [
    "single_person = fat_data.drop('BodyFat',axis=1).iloc[699]"
   ]
  },
  {
   "cell_type": "code",
   "execution_count": null,
   "id": "621ed7b9",
   "metadata": {},
   "outputs": [],
   "source": [
    "single_person = scaler.transform(single_person.values.reshape(-1, 6))"
   ]
  },
  {
   "cell_type": "code",
   "execution_count": null,
   "id": "9c594690",
   "metadata": {},
   "outputs": [],
   "source": [
    "model.predict(single_person)"
   ]
  },
  {
   "cell_type": "code",
   "execution_count": null,
   "id": "65dc3bfa",
   "metadata": {},
   "outputs": [],
   "source": [
    "explained_variance_score(y_test,predictions)"
   ]
  },
  {
   "cell_type": "code",
   "execution_count": null,
   "id": "9f40d6cb",
   "metadata": {},
   "outputs": [],
   "source": [
    "# Our predictions\n",
    "plt.scatter(y_test,predictions)\n",
    "\n",
    "# Perfect predictions\n",
    "plt.plot(y_test,y_test,'r')"
   ]
  },
  {
   "cell_type": "code",
   "execution_count": null,
   "id": "e6ef8d74",
   "metadata": {},
   "outputs": [],
   "source": [
    "fat_data.loc[699]"
   ]
  },
  {
   "cell_type": "code",
   "execution_count": null,
   "id": "7ac825fa",
   "metadata": {},
   "outputs": [],
   "source": [
    "import pickle\n",
    "pickle.dump(fat_data,open(\"fat_data.pkl\",\"wb\"))\n",
    "pickle.dump(scaler,open(\"scaler.pkl\",\"wb\"))\n",
    "pickle.dump(model,open(\"model.pkl\",\"wb\"))\n"
   ]
  }
 ],
 "metadata": {
  "kernelspec": {
   "display_name": "Python 3 (ipykernel)",
   "language": "python",
   "name": "python3"
  },
  "language_info": {
   "codemirror_mode": {
    "name": "ipython",
    "version": 3
   },
   "file_extension": ".py",
   "mimetype": "text/x-python",
   "name": "python",
   "nbconvert_exporter": "python",
   "pygments_lexer": "ipython3",
   "version": "3.10.9"
  },
  "varInspector": {
   "cols": {
    "lenName": 16,
    "lenType": 16,
    "lenVar": 40
   },
   "kernels_config": {
    "python": {
     "delete_cmd_postfix": "",
     "delete_cmd_prefix": "del ",
     "library": "var_list.py",
     "varRefreshCmd": "print(var_dic_list())"
    },
    "r": {
     "delete_cmd_postfix": ") ",
     "delete_cmd_prefix": "rm(",
     "library": "var_list.r",
     "varRefreshCmd": "cat(var_dic_list()) "
    }
   },
   "types_to_exclude": [
    "module",
    "function",
    "builtin_function_or_method",
    "instance",
    "_Feature"
   ],
   "window_display": false
  }
 },
 "nbformat": 4,
 "nbformat_minor": 5
}
